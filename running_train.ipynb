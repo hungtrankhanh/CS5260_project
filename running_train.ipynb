{
  "nbformat": 4,
  "nbformat_minor": 0,
  "metadata": {
    "colab": {
      "name": "running_train.ipynb",
      "provenance": []
    },
    "kernelspec": {
      "name": "python3",
      "display_name": "Python 3"
    },
    "language_info": {
      "name": "python"
    },
    "accelerator": "GPU"
  },
  "cells": [
    {
      "cell_type": "code",
      "metadata": {
        "id": "FhkUj3J_u5Jk"
      },
      "source": [
        "!git clone https://github.com/hungtrankhanh/CS5260_project.git"
      ],
      "execution_count": null,
      "outputs": []
    },
    {
      "cell_type": "code",
      "metadata": {
        "id": "GIIsIS5fwE0G"
      },
      "source": [
        "!pip install tensorboardX"
      ],
      "execution_count": null,
      "outputs": []
    },
    {
      "cell_type": "code",
      "metadata": {
        "colab": {
          "base_uri": "https://localhost:8080/"
        },
        "id": "r5_sH8ybwIMN",
        "outputId": "76561bae-dbae-43b9-be86-818b3b6ab207"
      },
      "source": [
        "import os\n",
        "!pwd\n",
        "os.chdir('/content/CS5260_project')\n"
      ],
      "execution_count": 3,
      "outputs": [
        {
          "output_type": "stream",
          "text": [
            "/content\n"
          ],
          "name": "stdout"
        }
      ]
    },
    {
      "cell_type": "code",
      "metadata": {
        "id": "YA2T4AFrwj57"
      },
      "source": [
        "# !python test.py -gen_bs 64 -dis_bs 32 --dataset cifar10 --bottom_width 8 --img_size 32 --max_iter 500000 --gen_model TransGAN_8_8_1 --dis_model ViT_8_8 --df_dim 384 --d_depth 7 --g_depth 5 --latent_dim 1024 --gf_dim 1024 --num_workers 36 --g_spectral_norm False --d_spectral_norm True --g_lr 0.0001 --d_lr 0.0001 --optimizer adam --loss wgangp-eps --wd 1e-3 --beta1 0 --beta2 0.99 --phi 1 --eval_batch_size 100 --num_eval_imgs 20000 --init_type normal --n_critic 5 --val_freq 20 --print_freq 50 --grow_steps 0 0 --fade_in 0 --diff_aug translation,cutout,color --exp_name cifar10_test --random_seed 5260"
      ],
      "execution_count": null,
      "outputs": []
    },
    {
      "cell_type": "code",
      "metadata": {
        "id": "KtNMTXpfYFGA"
      },
      "source": [
        "!python test.py -gen_bs 64 -dis_bs 32 --dataset cifar10 --bottom_width 8 --img_size 32 --max_iter 500000 --gen_model TransGAN_8_8_1 --dis_model ViT_8_8 --df_dim 384 --d_depth 7 --g_depth 5 --latent_dim 1024 --gf_dim 1024 --num_workers 36 --g_spectral_norm False --d_spectral_norm True --g_lr 0.0001 --d_lr 0.0001 --optimizer adam --loss lsgan --wd 1e-3 --beta1 0 --beta2 0.99 --phi 1 --eval_batch_size 100 --num_eval_imgs 20000 --init_type normal --n_critic 5 --val_freq 20 --print_freq 50 --grow_steps 0 0 --fade_in 0 --diff_aug translation,cutout,color --exp_name cifar10_test --random_seed 5260 --shared_epoch 20"
      ],
      "execution_count": null,
      "outputs": []
    },
    {
      "cell_type": "code",
      "metadata": {
        "id": "IJ1jUdmpUrjC"
      },
      "source": [
        "# import torch\n",
        "# model = torch.load(\"trained_gen_net.pt\")\n",
        "# model.eval()"
      ],
      "execution_count": null,
      "outputs": []
    }
  ]
}