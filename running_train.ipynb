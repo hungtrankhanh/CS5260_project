{
  "nbformat": 4,
  "nbformat_minor": 0,
  "metadata": {
    "colab": {
      "name": "running_train.ipynb",
      "provenance": []
    },
    "kernelspec": {
      "name": "python3",
      "display_name": "Python 3"
    },
    "language_info": {
      "name": "python"
    },
    "accelerator": "GPU"
  },
  "cells": [
    {
      "cell_type": "code",
      "metadata": {
        "colab": {
          "base_uri": "https://localhost:8080/"
        },
        "id": "FhkUj3J_u5Jk",
        "outputId": "28a0c7ee-6537-42f3-fe01-000d0b76e1c7"
      },
      "source": [
        "!git clone https://github.com/hungtrankhanh/CS5260_project.git"
      ],
      "execution_count": 1,
      "outputs": [
        {
          "output_type": "stream",
          "text": [
            "Cloning into 'CS5260_project'...\n",
            "remote: Enumerating objects: 28, done.\u001b[K\n",
            "remote: Counting objects: 100% (28/28), done.\u001b[K\n",
            "remote: Compressing objects: 100% (22/22), done.\u001b[K\n",
            "remote: Total 28 (delta 5), reused 28 (delta 5), pack-reused 0\u001b[K\n",
            "Unpacking objects: 100% (28/28), done.\n"
          ],
          "name": "stdout"
        }
      ]
    },
    {
      "cell_type": "code",
      "metadata": {
        "colab": {
          "base_uri": "https://localhost:8080/"
        },
        "id": "GIIsIS5fwE0G",
        "outputId": "b3e11356-8434-4b83-ec03-dfbaa1452924"
      },
      "source": [
        "!pip install tensorboardX"
      ],
      "execution_count": 2,
      "outputs": [
        {
          "output_type": "stream",
          "text": [
            "Collecting tensorboardX\n",
            "\u001b[?25l  Downloading https://files.pythonhosted.org/packages/af/0c/4f41bcd45db376e6fe5c619c01100e9b7531c55791b7244815bac6eac32c/tensorboardX-2.1-py2.py3-none-any.whl (308kB)\n",
            "\r\u001b[K     |█                               | 10kB 20.3MB/s eta 0:00:01\r\u001b[K     |██▏                             | 20kB 26.8MB/s eta 0:00:01\r\u001b[K     |███▏                            | 30kB 20.2MB/s eta 0:00:01\r\u001b[K     |████▎                           | 40kB 16.5MB/s eta 0:00:01\r\u001b[K     |█████▎                          | 51kB 15.6MB/s eta 0:00:01\r\u001b[K     |██████▍                         | 61kB 13.3MB/s eta 0:00:01\r\u001b[K     |███████▍                        | 71kB 14.7MB/s eta 0:00:01\r\u001b[K     |████████▌                       | 81kB 14.8MB/s eta 0:00:01\r\u001b[K     |█████████▌                      | 92kB 13.6MB/s eta 0:00:01\r\u001b[K     |██████████▋                     | 102kB 13.3MB/s eta 0:00:01\r\u001b[K     |███████████▊                    | 112kB 13.3MB/s eta 0:00:01\r\u001b[K     |████████████▊                   | 122kB 13.3MB/s eta 0:00:01\r\u001b[K     |█████████████▉                  | 133kB 13.3MB/s eta 0:00:01\r\u001b[K     |██████████████▉                 | 143kB 13.3MB/s eta 0:00:01\r\u001b[K     |████████████████                | 153kB 13.3MB/s eta 0:00:01\r\u001b[K     |█████████████████               | 163kB 13.3MB/s eta 0:00:01\r\u001b[K     |██████████████████              | 174kB 13.3MB/s eta 0:00:01\r\u001b[K     |███████████████████             | 184kB 13.3MB/s eta 0:00:01\r\u001b[K     |████████████████████▏           | 194kB 13.3MB/s eta 0:00:01\r\u001b[K     |█████████████████████▎          | 204kB 13.3MB/s eta 0:00:01\r\u001b[K     |██████████████████████▎         | 215kB 13.3MB/s eta 0:00:01\r\u001b[K     |███████████████████████▍        | 225kB 13.3MB/s eta 0:00:01\r\u001b[K     |████████████████████████▍       | 235kB 13.3MB/s eta 0:00:01\r\u001b[K     |█████████████████████████▌      | 245kB 13.3MB/s eta 0:00:01\r\u001b[K     |██████████████████████████▌     | 256kB 13.3MB/s eta 0:00:01\r\u001b[K     |███████████████████████████▋    | 266kB 13.3MB/s eta 0:00:01\r\u001b[K     |████████████████████████████▋   | 276kB 13.3MB/s eta 0:00:01\r\u001b[K     |█████████████████████████████▊  | 286kB 13.3MB/s eta 0:00:01\r\u001b[K     |██████████████████████████████▊ | 296kB 13.3MB/s eta 0:00:01\r\u001b[K     |███████████████████████████████▉| 307kB 13.3MB/s eta 0:00:01\r\u001b[K     |████████████████████████████████| 317kB 13.3MB/s \n",
            "\u001b[?25hRequirement already satisfied: numpy in /usr/local/lib/python3.7/dist-packages (from tensorboardX) (1.19.5)\n",
            "Requirement already satisfied: six in /usr/local/lib/python3.7/dist-packages (from tensorboardX) (1.15.0)\n",
            "Requirement already satisfied: protobuf>=3.8.0 in /usr/local/lib/python3.7/dist-packages (from tensorboardX) (3.12.4)\n",
            "Requirement already satisfied: setuptools in /usr/local/lib/python3.7/dist-packages (from protobuf>=3.8.0->tensorboardX) (54.1.2)\n",
            "Installing collected packages: tensorboardX\n",
            "Successfully installed tensorboardX-2.1\n"
          ],
          "name": "stdout"
        }
      ]
    },
    {
      "cell_type": "code",
      "metadata": {
        "colab": {
          "base_uri": "https://localhost:8080/"
        },
        "id": "r5_sH8ybwIMN",
        "outputId": "53e662cc-d0f9-421e-de58-e909acff6e0f"
      },
      "source": [
        "import os\n",
        "!pwd\n",
        "os.chdir('/content/CS5260_project')\n"
      ],
      "execution_count": 3,
      "outputs": [
        {
          "output_type": "stream",
          "text": [
            "/content\n"
          ],
          "name": "stdout"
        }
      ]
    },
    {
      "cell_type": "code",
      "metadata": {
        "colab": {
          "base_uri": "https://localhost:8080/"
        },
        "id": "YA2T4AFrwj57",
        "outputId": "2bab3b0f-402b-4396-fa59-a791c8b7ea23"
      },
      "source": [
        "!python test.py -gen_bs 64 -dis_bs 32 --dataset cifar10 --bottom_width 8 --img_size 32 --max_iter 500000 --gen_model TransGAN_8_8_1 --dis_model ViT_8_8 --df_dim 384 --d_depth 7 --g_depth 5 --latent_dim 1024 --gf_dim 1024 --num_workers 36 --g_spectral_norm False --d_spectral_norm True --g_lr 0.0001 --d_lr 0.0001 --optimizer adam --loss wgangp-eps --wd 1e-3 --beta1 0 --beta2 0.99 --phi 1 --eval_batch_size 100 --num_eval_imgs 20000 --init_type normal --n_critic 5 --val_freq 20 --print_freq 50 --grow_steps 0 0 --fade_in 0 --diff_aug translation,cutout,color --exp_name cifar10_test --random_seed 5260"
      ],
      "execution_count": 4,
      "outputs": [
        {
          "output_type": "stream",
          "text": [
            "2021-03-24 10:39:24.879304: I tensorflow/stream_executor/platform/default/dso_loader.cc:49] Successfully opened dynamic library libcudart.so.11.0\n",
            "Downloading https://www.cs.toronto.edu/~kriz/cifar-10-python.tar.gz to ./data/cifar-10-python.tar.gz\n",
            "170499072it [00:05, 29422804.44it/s]                   \n",
            "Extracting ./data/cifar-10-python.tar.gz to ./data\n",
            "/usr/local/lib/python3.7/dist-packages/torch/utils/data/dataloader.py:477: UserWarning: This DataLoader will create 36 worker processes in total. Our suggested max number of worker in current system is 2, which is smaller than what this DataLoader is going to create. Please be aware that excessive worker creation might get DataLoader running slow or even freeze, lower the worker number to avoid potential slowness/freeze if necessary.\n",
            "  cpuset_checked))\n",
            "Namespace(D_downsample='avg', arch=None, baseline_decay=0.9, beta1=0.0, beta2=0.99, bottom_width=8, channels=3, controller='controller', ctrl_lr=0.00035, ctrl_sample_batch=1, ctrl_step=30, d_depth=7, d_lr=0.0001, d_spectral_norm=True, data_path='./data', dataset='cifar10', df_dim=384, diff_aug='translation,cutout,color', dis_batch_size=32, dis_model='ViT_8_8', dynamic_reset_threshold=0.001, dynamic_reset_window=500, entropy_coeff=0.001, eval_batch_size=100, exp_name='cifar10_test', fade_in=0.0, fid_stat=None, g_depth=5, g_lr=0.0001, g_spectral_norm=False, gen_batch_size=64, gen_model='TransGAN_8_8_1', gf_dim=1024, grow_step1=25, grow_step2=55, grow_steps=[0, 0], hid_size=100, img_size=32, init_type='normal', latent_dim=1024, load_path='./pretrained_weight/cifar_checkpoint.pth', loss='wgangp-eps', lr_decay=False, max_epoch=1600.0, max_iter=500000, max_search_iter=90, n_classes=10, n_critic=5, noise_injection=False, num_candidate=10, num_eval_imgs=20000, num_workers=36, optimizer='adam', patch_size=4, path_helper={'prefix': 'logs/cifar10_test_2021_03_24_10_39_49', 'ckpt_path': 'logs/cifar10_test_2021_03_24_10_39_49/Model', 'log_path': 'logs/cifar10_test_2021_03_24_10_39_49/Log', 'sample_path': 'logs/cifar10_test_2021_03_24_10_39_49/Samples'}, phi=1.0, print_freq=50, random_seed=5260, rl_num_eval_img=5000, shared_epoch=15, topk=5, val_freq=20, wd=0.001)\n",
            "  0% 0/1563 [00:00<?, ?it/s]/content/CS5260_project/functions.py:202: UserWarning: This overload of add_ is deprecated:\n",
            "\tadd_(Number alpha, Tensor other)\n",
            "Consider using one of the following signatures instead:\n",
            "\tadd_(Tensor other, *, Number alpha) (Triggered internally at  /pytorch/torch/csrc/utils/python_arg_parser.cpp:1005.)\n",
            "  avg_p.mul_(0.999).add_(0.001, p.data)\n",
            "[Epoch 10/1600] [Batch 0/1563] [D loss: 9.025988] [G loss: -0.831860] alpha: 1.000000\n",
            "[Epoch 10/1600] [Batch 50/1563] [D loss: -3.607676] [G loss: 6.860835] alpha: 1.000000\n",
            "[Epoch 10/1600] [Batch 100/1563] [D loss: -7.008924] [G loss: 6.011065] alpha: 1.000000\n",
            "[Epoch 10/1600] [Batch 150/1563] [D loss: -8.813703] [G loss: 7.580025] alpha: 1.000000\n",
            "[Epoch 10/1600] [Batch 200/1563] [D loss: 2.750444] [G loss: 3.900515] alpha: 1.000000\n",
            "[Epoch 10/1600] [Batch 250/1563] [D loss: 1.280185] [G loss: 4.707835] alpha: 1.000000\n",
            "[Epoch 10/1600] [Batch 300/1563] [D loss: -1.240806] [G loss: 1.247050] alpha: 1.000000\n",
            "[Epoch 10/1600] [Batch 350/1563] [D loss: -2.250306] [G loss: 4.861114] alpha: 1.000000\n",
            "[Epoch 10/1600] [Batch 400/1563] [D loss: 0.095101] [G loss: 5.130657] alpha: 1.000000\n",
            "[Epoch 10/1600] [Batch 450/1563] [D loss: -1.839345] [G loss: 3.081036] alpha: 1.000000\n",
            "[Epoch 10/1600] [Batch 500/1563] [D loss: -4.200823] [G loss: 1.774158] alpha: 1.000000\n",
            "[Epoch 10/1600] [Batch 550/1563] [D loss: -3.288377] [G loss: 2.923297] alpha: 1.000000\n",
            "[Epoch 10/1600] [Batch 600/1563] [D loss: -2.317231] [G loss: 3.259494] alpha: 1.000000\n",
            "[Epoch 10/1600] [Batch 650/1563] [D loss: -1.385163] [G loss: 3.561296] alpha: 1.000000\n",
            "[Epoch 10/1600] [Batch 700/1563] [D loss: -1.067296] [G loss: 2.976197] alpha: 1.000000\n",
            "[Epoch 10/1600] [Batch 750/1563] [D loss: -1.267765] [G loss: 0.779850] alpha: 1.000000\n",
            "[Epoch 10/1600] [Batch 800/1563] [D loss: -2.767198] [G loss: 2.306890] alpha: 1.000000\n",
            "[Epoch 10/1600] [Batch 850/1563] [D loss: -1.011607] [G loss: 1.945443] alpha: 1.000000\n",
            "[Epoch 10/1600] [Batch 900/1563] [D loss: -1.749315] [G loss: 4.768699] alpha: 1.000000\n",
            "[Epoch 10/1600] [Batch 950/1563] [D loss: -2.068763] [G loss: 5.017652] alpha: 1.000000\n",
            "[Epoch 10/1600] [Batch 1000/1563] [D loss: -1.517963] [G loss: 2.819309] alpha: 1.000000\n",
            "[Epoch 10/1600] [Batch 1050/1563] [D loss: -2.933678] [G loss: 4.482263] alpha: 1.000000\n",
            "[Epoch 10/1600] [Batch 1100/1563] [D loss: -2.128873] [G loss: 0.836785] alpha: 1.000000\n",
            "[Epoch 10/1600] [Batch 1150/1563] [D loss: -0.287459] [G loss: 2.156223] alpha: 1.000000\n",
            "[Epoch 10/1600] [Batch 1200/1563] [D loss: -0.634008] [G loss: 0.579637] alpha: 1.000000\n",
            "[Epoch 10/1600] [Batch 1250/1563] [D loss: -2.309788] [G loss: 1.108914] alpha: 1.000000\n",
            "[Epoch 10/1600] [Batch 1300/1563] [D loss: -1.826979] [G loss: 3.346536] alpha: 1.000000\n",
            "[Epoch 10/1600] [Batch 1350/1563] [D loss: -1.420579] [G loss: 4.262086] alpha: 1.000000\n",
            "[Epoch 10/1600] [Batch 1400/1563] [D loss: -1.635490] [G loss: 3.692357] alpha: 1.000000\n",
            "[Epoch 10/1600] [Batch 1450/1563] [D loss: -1.364548] [G loss: 3.447918] alpha: 1.000000\n",
            "[Epoch 10/1600] [Batch 1500/1563] [D loss: -3.058840] [G loss: 0.924984] alpha: 1.000000\n",
            "[Epoch 10/1600] [Batch 1550/1563] [D loss: -1.766916] [G loss: 0.699311] alpha: 1.000000\n",
            "100% 1563/1563 [11:39<00:00,  2.24it/s]\n"
          ],
          "name": "stdout"
        }
      ]
    }
  ]
}